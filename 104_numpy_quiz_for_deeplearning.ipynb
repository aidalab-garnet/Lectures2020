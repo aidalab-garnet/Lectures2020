{
 "cells": [
  {
   "cell_type": "markdown",
   "metadata": {
    "colab_type": "text",
    "id": "f6jBj42254qW"
   },
   "source": [
    "# Quiz.\n",
    "```\n",
    "[ 0 1 2 0 1 2 0 1 2] 배열을\n",
    "\n",
    "[ 1 0 0 ]\n",
    "[ 0 1 0 ]\n",
    "[ 0 0 1 ]\n",
    "[ 1 0 0 ]\n",
    "[ 0 1 0 ]\n",
    "[ 0 0 1 ]\n",
    "[ 1 0 0 ]\n",
    "[ 0 1 0 ]\n",
    "[ 0 0 1 ]\n",
    "배열로 변환\n",
    "```\n"
   ]
  },
  {
   "cell_type": "code",
   "execution_count": 0,
   "metadata": {
    "colab": {
     "base_uri": "https://localhost:8080/",
     "height": 168
    },
    "colab_type": "code",
    "id": "ORYclVVbxTkW",
    "outputId": "867586b2-a7e7-4bd5-8d61-a024772b2f6f"
   },
   "outputs": [
    {
     "name": "stdout",
     "output_type": "stream",
     "text": [
      "[[1. 0. 0.]\n",
      " [0. 1. 0.]\n",
      " [0. 0. 1.]\n",
      " [1. 0. 0.]\n",
      " [0. 1. 0.]\n",
      " [0. 0. 1.]\n",
      " [1. 0. 0.]\n",
      " [0. 1. 0.]\n",
      " [0. 0. 1.]]\n"
     ]
    }
   ],
   "source": [
    "import numpy as np\n",
    "\n",
    "a = np.array([0,1,2,0,1,2,0,1,2])\n",
    "b = np.zeros((a.shape[0],3))\n",
    "\n",
    "# b[:,0] = (a==0)*1.0\n",
    "# b[:,1] = (a==1)*1.0\n",
    "# b[:,2] = (a==2)*1.0\n",
    "for i in range(3):\n",
    "  b[:,i] = (a==i)*1.0\n",
    "  \n",
    "print(b)"
   ]
  },
  {
   "cell_type": "code",
   "execution_count": 0,
   "metadata": {
    "colab": {
     "base_uri": "https://localhost:8080/",
     "height": 168
    },
    "colab_type": "code",
    "id": "S2Q2I4u96gqc",
    "outputId": "ec59a8bc-91c1-45f3-cf5c-8061f41f2cde"
   },
   "outputs": [
    {
     "name": "stdout",
     "output_type": "stream",
     "text": [
      "[[1. 0. 0.]\n",
      " [0. 1. 0.]\n",
      " [0. 0. 1.]\n",
      " [1. 0. 0.]\n",
      " [0. 1. 0.]\n",
      " [0. 0. 1.]\n",
      " [1. 0. 0.]\n",
      " [0. 1. 0.]\n",
      " [0. 0. 1.]]\n"
     ]
    }
   ],
   "source": [
    "import tensorflow.keras.utils\n",
    "\n",
    "a = np.array([0,1,2,0,1,2,0,1,2])\n",
    "b = tensorflow.keras.utils.to_categorical(a)\n",
    "\n",
    "print(b)"
   ]
  },
  {
   "cell_type": "markdown",
   "metadata": {
    "colab_type": "text",
    "id": "Aq9Ake0uIdFf"
   },
   "source": [
    "# Quiz\n",
    "\n",
    "# Quiz.\n",
    "```\n",
    "[ 1 0 0 ]\n",
    "[ 0 1 0 ]\n",
    "[ 0 0 1 ]\n",
    "[ 1 0 0 ]\n",
    "[ 0 1 0 ]\n",
    "[ 0 0 1 ]\n",
    "[ 1 0 0 ]\n",
    "[ 0 1 0 ]\n",
    "[ 0 0 1 ]\n",
    "[ 0 0 0 ]\n",
    "배열을\n",
    "\n",
    "[ 0 1 2 0 1 2 0 1 2] \n",
    "배열로 변환\n",
    "```\n"
   ]
  },
  {
   "cell_type": "code",
   "execution_count": 0,
   "metadata": {
    "colab": {
     "base_uri": "https://localhost:8080/",
     "height": 34
    },
    "colab_type": "code",
    "id": "mk_kOrh4Ismd",
    "outputId": "b5681270-94b4-4bd7-885b-5390734d9f83"
   },
   "outputs": [
    {
     "name": "stdout",
     "output_type": "stream",
     "text": [
      "[0 1 2 0 1 2 0 1 2]\n"
     ]
    }
   ],
   "source": [
    "import numpy as np\n",
    "\n",
    "a = np.array([\n",
    "    [1,0,0],\n",
    "    [0,1,0],\n",
    "    [0,0,1],\n",
    "    [1,0,0],\n",
    "    [0,1,0],\n",
    "    [0,0,1],\n",
    "    [1,0,0],\n",
    "    [0,1,0],\n",
    "    [0,0,1]    \n",
    "])\n",
    "\n",
    "b = np.argmax(a, axis=1)\n",
    "\n",
    "print(b)"
   ]
  },
  {
   "cell_type": "markdown",
   "metadata": {
    "colab_type": "text",
    "id": "I99BgXOd6FGU"
   },
   "source": [
    "# Quiz. \n",
    "\n",
    "임의의 데이터를 6:4로 나눈다.\n",
    "\n",
    "[1 2 3 4 ... 9 0]을\n",
    "[ 1 2 .. 6], [ 7 8 .. 0]으로 나눈다.\n"
   ]
  },
  {
   "cell_type": "code",
   "execution_count": 0,
   "metadata": {
    "colab": {
     "base_uri": "https://localhost:8080/",
     "height": 50
    },
    "colab_type": "code",
    "id": "4Xl9YJrqxdqL",
    "outputId": "03459560-14d0-42b3-f542-b78cbb2be903"
   },
   "outputs": [
    {
     "name": "stdout",
     "output_type": "stream",
     "text": [
      "[1 2 3 4 5 6]\n",
      "[7 8 9 0]\n"
     ]
    }
   ],
   "source": [
    "a = np.array([1,2,3,4,5,6,7,8,9,0])\n",
    "\n",
    "split_index = int(a.shape[0]*0.6)\n",
    "\n",
    "b1 = a[0:split_index]\n",
    "b2 = a[split_index:]\n",
    "\n",
    "print(b1)\n",
    "print(b2)"
   ]
  },
  {
   "cell_type": "markdown",
   "metadata": {
    "colab_type": "text",
    "id": "7vA35nRD6MN3"
   },
   "source": [
    "# Quiz. \n",
    "\n",
    "임의의 데이터를 6:4로 나눈다.\n",
    "```\n",
    "[ 1 0 0 ]\n",
    "[ 2 0 0 ]\n",
    "...\n",
    "[ 0 0 0 ]를\n",
    "\n",
    "[ 1 0 0 ]\n",
    "...\n",
    "[ 6 0 0 ]와\n",
    "\n",
    "[ 7 0 0 ]\n",
    "...\n",
    "[ 0 0 0 ]\n",
    "```"
   ]
  },
  {
   "cell_type": "code",
   "execution_count": 0,
   "metadata": {
    "colab": {
     "base_uri": "https://localhost:8080/",
     "height": 185
    },
    "colab_type": "code",
    "id": "eOlldWIkxjJY",
    "outputId": "30489708-f2c3-404d-a404-cc45f540d47d"
   },
   "outputs": [
    {
     "name": "stdout",
     "output_type": "stream",
     "text": [
      "[[1. 0. 0.]\n",
      " [2. 0. 0.]\n",
      " [3. 0. 0.]\n",
      " [4. 0. 0.]\n",
      " [5. 0. 0.]\n",
      " [6. 0. 0.]]\n",
      "[[7. 0. 0.]\n",
      " [8. 0. 0.]\n",
      " [9. 0. 0.]\n",
      " [0. 0. 0.]]\n"
     ]
    }
   ],
   "source": [
    "a = np.zeros((10,3))\n",
    "a[:,0] = [1,2,3,4,5,6,7,8,9,0]\n",
    "\n",
    "\n",
    "split_index = int(a.shape[0]*0.6)\n",
    "\n",
    "b1 = a[0:split_index]\n",
    "b2 = a[split_index:]\n",
    "\n",
    "print(b1)\n",
    "print(b2)\n"
   ]
  },
  {
   "cell_type": "markdown",
   "metadata": {
    "colab_type": "text",
    "id": "GD7_KvemJcOl"
   },
   "source": [
    "# Quiz\n",
    "\n",
    "```\n",
    "a = [0,1,2,3,4,5]\n",
    "b = [0,2,4,6,8,10]\n",
    "```\n",
    "\n",
    "a와 b를 동시에 섞는다.\n",
    "```\n",
    "[3 5  1  0 4 2]\n",
    "[6 10 2 0 8 4]\n",
    "```\n"
   ]
  },
  {
   "cell_type": "code",
   "execution_count": 0,
   "metadata": {
    "colab": {
     "base_uri": "https://localhost:8080/",
     "height": 50
    },
    "colab_type": "code",
    "id": "d6f7vWWbJgYW",
    "outputId": "d76a2aa4-e466-4425-b359-cf69122dcc37"
   },
   "outputs": [
    {
     "name": "stdout",
     "output_type": "stream",
     "text": [
      "[1 6 2 9 4 7 3 5 8 0]\n",
      "[ 2 12  4 18  8 14  6 10 16  0]\n"
     ]
    }
   ],
   "source": [
    "a = np.arange(10)\n",
    "b = np.arange(10)*2\n",
    "\n",
    "i = np.arange(10)\n",
    "np.random.shuffle(i)\n",
    "\n",
    "a = a[i]\n",
    "b = b[i]\n",
    "print(a)\n",
    "print(b)"
   ]
  },
  {
   "cell_type": "markdown",
   "metadata": {
    "colab_type": "text",
    "id": "VVR0csJHMvG4"
   },
   "source": [
    "# Quiz\n",
    "\n",
    "다음과 클래스 이름 어레이로 클래스 인덱스 어레이 생성\n",
    "```\n",
    "[\"cat\", \"cat\", \"dog\", \"cat\", \"horse\", \"horse\", \"dog\", \"cat\"]\n",
    "\n",
    "cat : 0\n",
    "dog : 1\n",
    "horse : 2\n",
    "\n",
    "[0 0 1 0 2 2 1 0]\n",
    "```"
   ]
  },
  {
   "cell_type": "code",
   "execution_count": 1,
   "metadata": {
    "colab": {
     "base_uri": "https://localhost:8080/",
     "height": 50
    },
    "colab_type": "code",
    "id": "xvEbQjWMJjs-",
    "outputId": "e75e1bb3-425b-4db0-bae8-e2ecdd9a38d1"
   },
   "outputs": [
    {
     "name": "stdout",
     "output_type": "stream",
     "text": [
      "['cat' 'dog' 'horse']\n",
      "[0 0 1 0 2 2 1 0]\n"
     ]
    }
   ],
   "source": [
    "import numpy as np\n",
    "\n",
    "category_names = np.array(\n",
    "    [\"cat\", \"cat\", \"dog\", \"cat\", \"horse\", \"horse\", \"dog\", \"cat\"]\n",
    ")\n",
    "\n",
    "labels, indexes = np.unique(category_names, return_inverse=True)  \n",
    "print(labels)\n",
    "print(indexes)"
   ]
  }
 ],
 "metadata": {
  "colab": {
   "collapsed_sections": [],
   "name": "numpy_quiz_for_deepleaning.ipynb",
   "provenance": [],
   "version": "0.3.2"
  },
  "kernelspec": {
   "display_name": "Python 3",
   "language": "python",
   "name": "python3"
  },
  "language_info": {
   "codemirror_mode": {
    "name": "ipython",
    "version": 3
   },
   "file_extension": ".py",
   "mimetype": "text/x-python",
   "name": "python",
   "nbconvert_exporter": "python",
   "pygments_lexer": "ipython3",
   "version": "3.7.9"
  }
 },
 "nbformat": 4,
 "nbformat_minor": 1
}
